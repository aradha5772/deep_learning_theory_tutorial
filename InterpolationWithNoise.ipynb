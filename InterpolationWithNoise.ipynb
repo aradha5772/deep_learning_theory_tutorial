{
 "cells": [
  {
   "cell_type": "markdown",
   "metadata": {},
   "source": [
    "# Interpolation in the Presence of Noisy Data\n",
    "\n",
    "In this notebook, we provide a simple example demonstrating the effectiveness of interpolating models (in this case models that achieve 100% training accuracy in classification) even in the presence of incorrectly labelled data.  In particular, we use the Laplace kernel for image classification on MNIST.  We load the relevant subset of MNIST data below. "
   ]
  },
  {
   "cell_type": "code",
   "execution_count": 12,
   "metadata": {},
   "outputs": [
    {
     "name": "stdout",
     "output_type": "stream",
     "text": [
      "Train Set:  torch.Size([4000, 784])\n",
      "Train Labels:  torch.Size([4000, 10])\n",
      "Test Set:  torch.Size([10000, 784])\n",
      "Test Labels:  torch.Size([10000, 10])\n"
     ]
    }
   ],
   "source": [
    "# We will use a subset of MNIST for demonstrating double descent \n",
    "import torch\n",
    "from torchvision import datasets, transforms\n",
    "\n",
    "\n",
    "train_set = datasets.MNIST('./data', train=True, download=True)\n",
    "test_set = datasets.MNIST('./data', train=False, download=True)\n",
    "\n",
    "# Loading/Normalizing training & test images\n",
    "train_imgs, train_labels = train_set.data / 256, train_set.targets\n",
    "test_imgs, test_labels = test_set.data / 256, test_set.targets\n",
    "\n",
    "classes = {}\n",
    "max_per_class = 400\n",
    "max_labels = 10\n",
    "\n",
    "for idx, label in enumerate(train_labels): \n",
    "    label = label.data.numpy().item()\n",
    "    if label in classes and len(classes[label]) < max_per_class: \n",
    "        classes[label].append(train_imgs[idx])\n",
    "    elif label not in classes: \n",
    "        classes[label] = [train_imgs[idx]]\n",
    "        \n",
    "    if len(classes) >= max_labels:\n",
    "        early_exit = True\n",
    "        for label in classes: \n",
    "            early_exit &= len(classes[label]) >= max_per_class\n",
    "        if early_exit: \n",
    "            break\n",
    "\n",
    "all_train_examples = []\n",
    "all_train_labels = []\n",
    "for label in classes:\n",
    "    label_vec = torch.zeros(max_labels)\n",
    "    label_vec[label] = 1.\n",
    "    all_train_examples.extend(classes[label])\n",
    "    all_train_labels.extend([label_vec]*len(classes[label]))\n",
    "    \n",
    "all_test_labels = []    \n",
    "for label in test_labels: \n",
    "    label = label.data.numpy().item()\n",
    "    label_vec = torch.zeros(max_labels)\n",
    "    label_vec[label] = 1.\n",
    "    all_test_labels.append(label_vec)\n",
    "    \n",
    "    \n",
    "train_set = torch.stack(all_train_examples, dim=0).view(max_labels * max_per_class, -1)\n",
    "train_set = train_set / torch.norm(train_set, p=2, dim=1).view(-1, 1)\n",
    "train_labels = torch.stack(all_train_labels, dim=0)\n",
    "\n",
    "test_set = test_imgs.view(-1, 28*28)\n",
    "test_set = test_set / torch.norm(test_set, p=2, dim=1).view(-1, 1) \n",
    "test_labels = torch.stack(all_test_labels, dim=0)\n",
    "\n",
    "print(\"Train Set: \", train_set.shape)\n",
    "print(\"Train Labels: \", train_labels.shape)\n",
    "print(\"Test Set: \", test_set.shape)\n",
    "print(\"Test Labels: \", test_labels.shape)"
   ]
  },
  {
   "cell_type": "markdown",
   "metadata": {},
   "source": [
    "### Interpolation with EigenPro\n",
    "\n",
    "Below we use the Laplace kernel to classify MNIST digits from pixels.  We make use of the EigenPro library (https://github.com/EigenPro/EigenPro-pytorch) below for solving kernel regression. "
   ]
  },
  {
   "cell_type": "code",
   "execution_count": 15,
   "metadata": {},
   "outputs": [
    {
     "name": "stdout",
     "output_type": "stream",
     "text": [
      "probability: 0.00 & Number of labels corrupted: 0\n"
     ]
    },
    {
     "name": "stderr",
     "output_type": "stream",
     "text": [
      "/home/aradha/princeton_dl_tutorial/eigenpro.py:102: UserWarning: To copy construct from a tensor, it is recommended to use sourceTensor.clone().detach() or sourceTensor.clone().detach().requires_grad_(True), rather than torch.tensor(sourceTensor).\n",
      "  requires_grad=False).to(self.device)\n"
     ]
    },
    {
     "name": "stdout",
     "output_type": "stream",
     "text": [
      "SVD time: 0.69, top_q: 36, top_eigval: 0.90, new top_eigval: 5.20e-04\n",
      "n_subsamples=2000, bs_gpu=2000, eta=1923.82, bs=1905, top_eigval=8.97e-01, beta=0.99\n",
      "train error: 0.00%\tval error: 4.58% (150 epochs, 1.47 seconds)\ttrain l2: 1.57e-07\tval l2: 1.44e-02\n",
      "probability: 0.10 & Number of labels corrupted: 371\n",
      "SVD time: 0.69, top_q: 36, top_eigval: 0.90, new top_eigval: 5.20e-04\n",
      "n_subsamples=2000, bs_gpu=2000, eta=1923.82, bs=1905, top_eigval=8.97e-01, beta=0.99\n",
      "train error: 0.00%\tval error: 4.89% (150 epochs, 1.44 seconds)\ttrain l2: 2.14e-06\tval l2: 1.77e-02\n",
      "probability: 0.20 & Number of labels corrupted: 805\n",
      "SVD time: 0.70, top_q: 36, top_eigval: 0.90, new top_eigval: 5.20e-04\n",
      "n_subsamples=2000, bs_gpu=2000, eta=1923.82, bs=1905, top_eigval=8.97e-01, beta=0.99\n",
      "train error: 0.00%\tval error: 5.56% (150 epochs, 1.44 seconds)\ttrain l2: 5.00e-06\tval l2: 2.27e-02\n",
      "probability: 0.30 & Number of labels corrupted: 1204\n",
      "SVD time: 0.69, top_q: 36, top_eigval: 0.90, new top_eigval: 5.20e-04\n",
      "n_subsamples=2000, bs_gpu=2000, eta=1923.82, bs=1905, top_eigval=8.97e-01, beta=0.99\n",
      "train error: 0.00%\tval error: 7.54% (150 epochs, 1.44 seconds)\ttrain l2: 7.06e-06\tval l2: 2.89e-02\n",
      "probability: 0.40 & Number of labels corrupted: 1610\n",
      "SVD time: 0.69, top_q: 36, top_eigval: 0.90, new top_eigval: 5.20e-04\n",
      "n_subsamples=2000, bs_gpu=2000, eta=1923.82, bs=1905, top_eigval=8.97e-01, beta=0.99\n",
      "train error: 0.00%\tval error: 10.51% (150 epochs, 1.44 seconds)\ttrain l2: 8.20e-06\tval l2: 3.57e-02\n",
      "probability: 0.50 & Number of labels corrupted: 2016\n",
      "SVD time: 0.69, top_q: 36, top_eigval: 0.90, new top_eigval: 5.20e-04\n",
      "n_subsamples=2000, bs_gpu=2000, eta=1923.82, bs=1905, top_eigval=8.97e-01, beta=0.99\n",
      "train error: 0.00%\tval error: 15.34% (150 epochs, 1.44 seconds)\ttrain l2: 9.80e-06\tval l2: 4.36e-02\n",
      "probability: 0.60 & Number of labels corrupted: 2429\n",
      "SVD time: 0.70, top_q: 36, top_eigval: 0.90, new top_eigval: 5.20e-04\n",
      "n_subsamples=2000, bs_gpu=2000, eta=1923.82, bs=1905, top_eigval=8.97e-01, beta=0.99\n",
      "train error: 0.00%\tval error: 23.33% (150 epochs, 1.45 seconds)\ttrain l2: 1.12e-05\tval l2: 5.31e-02\n",
      "probability: 0.70 & Number of labels corrupted: 2809\n",
      "SVD time: 0.70, top_q: 36, top_eigval: 0.90, new top_eigval: 5.20e-04\n",
      "n_subsamples=2000, bs_gpu=2000, eta=1923.82, bs=1905, top_eigval=8.97e-01, beta=0.99\n",
      "train error: 0.00%\tval error: 35.97% (150 epochs, 1.44 seconds)\ttrain l2: 1.26e-05\tval l2: 6.29e-02\n",
      "probability: 0.80 & Number of labels corrupted: 3189\n",
      "SVD time: 0.69, top_q: 36, top_eigval: 0.90, new top_eigval: 5.20e-04\n",
      "n_subsamples=2000, bs_gpu=2000, eta=1923.82, bs=1905, top_eigval=8.97e-01, beta=0.99\n",
      "train error: 0.00%\tval error: 53.70% (150 epochs, 1.44 seconds)\ttrain l2: 1.31e-05\tval l2: 7.45e-02\n",
      "probability: 0.90 & Number of labels corrupted: 3583\n",
      "SVD time: 0.70, top_q: 36, top_eigval: 0.90, new top_eigval: 5.20e-04\n",
      "n_subsamples=2000, bs_gpu=2000, eta=1923.82, bs=1905, top_eigval=8.97e-01, beta=0.99\n",
      "train error: 0.00%\tval error: 73.56% (150 epochs, 1.44 seconds)\ttrain l2: 1.33e-05\tval l2: 8.73e-02\n"
     ]
    },
    {
     "data": {
      "image/png": "[encoded data removed]",
      "text/plain": [
       "<Figure size 432x288 with 1 Axes>"
      ]
     },
     "metadata": {
      "needs_background": "light"
     },
     "output_type": "display_data"
    }
   ],
   "source": [
    "from numpy.linalg import pinv, solve\n",
    "import numpy as np\n",
    "import time \n",
    "import random\n",
    "import matplotlib.pyplot as plt\n",
    "%matplotlib inline\n",
    "\n",
    "import kernel\n",
    "import eigenpro\n",
    "import torch\n",
    "\n",
    "SEED = 2134\n",
    "np.random.seed(SEED)\n",
    "random.seed(SEED)\n",
    "\n",
    "def mse(preds, labels): \n",
    "    return np.mean(np.abs(np.power(preds - labels, 2)))\n",
    "\n",
    "def numpy_acc(preds, labels):\n",
    "    preds_max = np.argmax(preds, axis=0)\n",
    "    labels_max = np.argmax(labels, axis=0)\n",
    "    return np.mean(preds_max == labels_max)\n",
    "\n",
    "\n",
    "X = train_set.cpu().data.numpy().astype(\"float32\")\n",
    "y = train_labels.cpu().data.numpy().astype(\"float32\")\n",
    "X_test = test_set.cpu().data.numpy().astype(\"float32\")\n",
    "y_test = test_labels.cpu().data.numpy().astype(\"float32\")\n",
    "\n",
    "possible_labels = np.eye(10)\n",
    "random_idxs = np.random.randint(low=0, high=10, size=len(y))\n",
    "random_labels  = possible_labels[random_idxs, :]\n",
    "\n",
    "random_test_idxs = np.random.randint(low=0, high=10, size=len(y_test))\n",
    "random_test_labels  = possible_labels[random_test_idxs, :]\n",
    "\n",
    "noise_probs = np.linspace(0, .9, 10)\n",
    "train_errors = []\n",
    "test_errors = []\n",
    "for p in noise_probs:\n",
    "    choice = np.random.uniform(size=y.shape[0])\n",
    "    choice = np.where(choice < p, 1, 0)\n",
    "    y[choice==1] = random_labels[choice==1]\n",
    "\n",
    "    # Uncomment if you want to corrupt the labels for test data as well\n",
    "    # choice_test = np.random.uniform(size=y_test.shape[0])\n",
    "    # choice_test = np.where(choice_test < p, 1, 0)\n",
    "    # y_test[choice_test==1] = random_test_labels[choice_test==1]\n",
    "    \n",
    "    print(\"probability: %.2f & Number of labels corrupted: %d\"%(p, np.sum(choice)))    \n",
    "\n",
    "    use_cuda = torch.cuda.is_available()\n",
    "    device = torch.device(\"cuda\" if use_cuda else \"cpu\")\n",
    "    n_class = 10\n",
    "    num_epochs=150\n",
    "    kernel_fn = lambda x,y: kernel.laplacian(x, y, bandwidth=10)\n",
    "    model = eigenpro.FKR_EigenPro(kernel_fn, X, n_class, device=device)\n",
    "    res = model.fit(X, y, X_test, y_test, epochs=[num_epochs], mem_gb=12)\n",
    "    train_errors.append(1 - res[num_epochs][0]['multiclass-acc'])\n",
    "    test_errors.append(1 - res[num_epochs][1]['multiclass-acc'])\n",
    "\n",
    "plt.title(\"Interpolation in the Presence of Noisy Data\")\n",
    "plt.xlabel(\"Added Label Noise %\")\n",
    "plt.ylabel(\"Classification Error (1 - Acc.)\")\n",
    "plt.plot(noise_probs, test_errors, 'rx--', label='Test Error')\n",
    "plt.plot(noise_probs, train_errors, 'k--', label='Training Error')\n",
    "plt.legend()\n",
    "plt.show()"
   ]
  }
 ],
 "metadata": {
  "kernelspec": {
   "display_name": "dl_tutorial",
   "language": "python",
   "name": "dl_tutorial"
  },
  "language_info": {
   "codemirror_mode": {
    "name": "ipython",
    "version": 3
   },
   "file_extension": ".py",
   "mimetype": "text/x-python",
   "name": "python",
   "nbconvert_exporter": "python",
   "pygments_lexer": "ipython3",
   "version": "3.7.10"
  }
 },
 "nbformat": 4,
 "nbformat_minor": 2
}
