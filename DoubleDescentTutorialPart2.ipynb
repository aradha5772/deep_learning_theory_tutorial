{
 "cells": [
  {
   "cell_type": "markdown",
   "metadata": {},
   "source": [
    "# Double Descent with 1 Hidden Layer Neural Networks \n",
    "\n",
    "In this notebook, we identify the double descent phenomenon when training 1 hidden layer neural networks.  Again, given a dataset $\\{(x^{(i)}, y^{(i)})\\}_{i=1}^{n} \\subset \\mathbb{R}^{d} \\times \\mathbb{R}$, we wish to learn a map from $x^{(i)} \\to y^{(i)}$.  To learn such a map, we use the following 1 hidden layer nonlinear network: \n",
    "\\begin{align*}\n",
    "    f(\\mathbf{W} ; x) = a \\frac{\\sqrt{c}}{\\sqrt{k}} \\phi(B x) ~~;\n",
    "\\end{align*}\n",
    "where $a \\in \\mathbb{R}^{1 \\times k}$, $B \\in \\mathbb{R}^{k \\times d}$, $x \\in \\mathbb{R}^{d}$, $c \\in \\mathbb{R}$ is a fixed constant, $\\phi$ is an elementwise nonlinearity, and $\\mathbf{W}$ is a vectorized version of all entries of $a, B$ (e.g. $\\mathbf{W} \\in \\mathbb{R}^{k + dk}$).  We will also assume that $\\phi$ is a real valued function (as is the case in many models in practice).  \n",
    "\n",
    "\n",
    "We will assume that the parameters $\\mathbf{W}_i \\overset{i.i.d}{\\sim} \\mathcal{N}(0, 1)$.  We then use gradient descent to minimize the following loss: \n",
    "\\begin{align}\n",
    "    \\mathcal{L}(w) = \\sum_{i=1}^{n} ( y^{(i)} - f(x^{(i)}))^2  ~~;\n",
    "\\end{align}\n",
    "\n",
    "We will now show that double descent occurs when the number of hidden units $k$ increases.  \n",
    "\n",
    "**Note:** The following code will make use of the GPU (it can still run without the GPU, but will take a bit longer).  "
   ]
  },
  {
   "cell_type": "code",
   "execution_count": 2,
   "metadata": {},
   "outputs": [
    {
     "name": "stderr",
     "output_type": "stream",
     "text": [
      "/home/aradha/anaconda3/envs/dl_tutorial/lib/python3.7/site-packages/torchvision/datasets/mnist.py:498: UserWarning: The given NumPy array is not writeable, and PyTorch does not support non-writeable tensors. This means you can write to the underlying (supposedly non-writeable) NumPy array using the tensor. You may want to copy the array to protect its data or make it writeable before converting it to a tensor. This type of warning will be suppressed for the rest of this program. (Triggered internally at  /opt/conda/conda-bld/pytorch_1623448265233/work/torch/csrc/utils/tensor_numpy.cpp:180.)\n",
      "  return torch.from_numpy(parsed.astype(m[2], copy=False)).view(*s)\n"
     ]
    },
    {
     "name": "stdout",
     "output_type": "stream",
     "text": [
      "Train Set:  torch.Size([4000, 784])\n",
      "Train Labels:  torch.Size([4000, 10])\n",
      "Test Set:  torch.Size([10000, 784])\n",
      "Test Labels:  torch.Size([10000, 10])\n"
     ]
    }
   ],
   "source": [
    "# We will use a subset of MNIST for demonstrating double descent \n",
    "import torch\n",
    "from torchvision import datasets, transforms\n",
    "\n",
    "\n",
    "train_set = datasets.MNIST('./data', train=True, download=True)\n",
    "test_set = datasets.MNIST('./data', train=False, download=True)\n",
    "\n",
    "# Loading/Normalizing training & test images\n",
    "train_imgs, train_labels = train_set.data / 256, train_set.targets\n",
    "test_imgs, test_labels = test_set.data / 256, test_set.targets\n",
    "\n",
    "classes = {}\n",
    "max_per_class = 400\n",
    "max_labels = 10\n",
    "\n",
    "for idx, label in enumerate(train_labels): \n",
    "    label = label.data.numpy().item()\n",
    "    if label in classes and len(classes[label]) < max_per_class: \n",
    "        classes[label].append(train_imgs[idx])\n",
    "    elif label not in classes: \n",
    "        classes[label] = [train_imgs[idx]]\n",
    "        \n",
    "    if len(classes) >= max_labels:\n",
    "        early_exit = True\n",
    "        for label in classes: \n",
    "            early_exit &= len(classes[label]) >= max_per_class\n",
    "        if early_exit: \n",
    "            break\n",
    "\n",
    "all_train_examples = []\n",
    "all_train_labels = []\n",
    "for label in classes:\n",
    "    label_vec = torch.zeros(max_labels)\n",
    "    label_vec[label] = 1.\n",
    "    all_train_examples.extend(classes[label])\n",
    "    all_train_labels.extend([label_vec]*len(classes[label]))\n",
    "    \n",
    "all_test_labels = []    \n",
    "for label in test_labels: \n",
    "    label = label.data.numpy().item()\n",
    "    label_vec = torch.zeros(max_labels)\n",
    "    label_vec[label] = 1.\n",
    "    all_test_labels.append(label_vec)\n",
    "    \n",
    "    \n",
    "train_set = torch.stack(all_train_examples, dim=0).view(max_labels * max_per_class, -1)\n",
    "train_set = train_set / torch.norm(train_set, p=2, dim=1).view(-1, 1)\n",
    "train_labels = torch.stack(all_train_labels, dim=0)\n",
    "\n",
    "test_set = test_imgs.view(-1, 28*28)\n",
    "test_set = test_set / torch.norm(test_set, p=2, dim=1).view(-1, 1) \n",
    "test_labels = torch.stack(all_test_labels, dim=0)\n",
    "\n",
    "print(\"Train Set: \", train_set.shape)\n",
    "print(\"Train Labels: \", train_labels.shape)\n",
    "print(\"Test Set: \", test_set.shape)\n",
    "print(\"Test Labels: \", test_labels.shape)"
   ]
  },
  {
   "cell_type": "markdown",
   "metadata": {},
   "source": [
    "## Neural Network for MNIST Classification\n",
    "\n",
    "Below we provide code for constructing a 1 hidden layer network of width $k$ in PyTorch.  We will consider networks with a bias term in the hidden layer just as in teh previous notebook. "
   ]
  },
  {
   "cell_type": "code",
   "execution_count": 3,
   "metadata": {
    "collapsed": true
   },
   "outputs": [],
   "source": [
    "## We now need to define and train a neural network to map x^{(i)} to y^{(i)}\n",
    "import torch\n",
    "import torch.nn as nn\n",
    "import torch.nn.functional as F\n",
    "\n",
    "# Abstraction for nonlinearity \n",
    "class Nonlinearity(torch.nn.Module):\n",
    "    \n",
    "    def __init__(self):\n",
    "        super(Nonlinearity, self).__init__()\n",
    "\n",
    "    def forward(self, x):\n",
    "        #return F.leaky_relu(x)\n",
    "        return F.relu(x)\n",
    "    \n",
    "class Net(nn.Module):\n",
    "\n",
    "    def __init__(self, width):\n",
    "        super(Net, self).__init__()\n",
    "\n",
    "        self.k = width\n",
    "        self.first = nn.Sequential(nn.Linear(784, self.k, bias=True), \n",
    "                                   Nonlinearity())\n",
    "        self.sec = nn.Linear(self.k, 10, bias=False)\n",
    "\n",
    "    def forward(self, x):\n",
    "        #C = np.sqrt(2/(.01**2 + 1)) * 1/np.sqrt(self.k)\n",
    "        C = np.sqrt(2/self.k)\n",
    "        o = self.first(x) * C\n",
    "        return self.sec(o)"
   ]
  },
  {
   "cell_type": "markdown",
   "metadata": {},
   "source": [
    "### Training a neural network with gradient descent\n",
    "\n",
    "Below, we provide code to train neural networks of varying width to classify $4000$ MNIST digits using gradient descent.  We chose to run gradient descent for $10^5$ epochs to minimize the training loss and accuracy as much as possible.  In practice, we would just early stop the code when the validation accuracy stops improving.  The code below takes too much time to run in the tutorial, but you are encouraged to try it out offline.  "
   ]
  },
  {
   "cell_type": "code",
   "execution_count": 40,
   "metadata": {},
   "outputs": [
    {
     "name": "stdout",
     "output_type": "stream",
     "text": [
      "Number of Parameters:  12720\n"
     ]
    },
    {
     "data": {
      "application/vnd.jupyter.widget-view+json": {
       "model_id": "",
       "version_major": 2,
       "version_minor": 0
      },
      "text/plain": [
       "  0%|          | 0/100000 [00:00<?, ?it/s]"
      ]
     },
     "metadata": {},
     "output_type": "display_data"
    },
    {
     "name": "stdout",
     "output_type": "stream",
     "text": [
      "Train MSE: 0.80767\t Train Error: 0.87625\t Test Error: 0.88730 (0 epochs)\t\n",
      "Train MSE: 0.04818\t Train Error: 0.42900\t Test Error: 0.43960 (10000 epochs)\t\n",
      "Train MSE: 0.03938\t Train Error: 0.33850\t Test Error: 0.36380 (20000 epochs)\t\n",
      "Train MSE: 0.03689\t Train Error: 0.32450\t Test Error: 0.35590 (30000 epochs)\t\n",
      "Train MSE: 0.03614\t Train Error: 0.32125\t Test Error: 0.35810 (40000 epochs)\t\n",
      "Train MSE: 0.03561\t Train Error: 0.31975\t Test Error: 0.36130 (50000 epochs)\t\n",
      "Train MSE: 0.03523\t Train Error: 0.31900\t Test Error: 0.36310 (60000 epochs)\t\n",
      "Train MSE: 0.03498\t Train Error: 0.31850\t Test Error: 0.36520 (70000 epochs)\t\n",
      "Train MSE: 0.03469\t Train Error: 0.31800\t Test Error: 0.36750 (80000 epochs)\t\n",
      "Train MSE: 0.03454\t Train Error: 0.31775\t Test Error: 0.37050 (90000 epochs)\t\n",
      "Number of Parameters:  25440\n"
     ]
    },
    {
     "data": {
      "application/vnd.jupyter.widget-view+json": {
       "model_id": "",
       "version_major": 2,
       "version_minor": 0
      },
      "text/plain": [
       "  0%|          | 0/100000 [00:00<?, ?it/s]"
      ]
     },
     "metadata": {},
     "output_type": "display_data"
    },
    {
     "name": "stdout",
     "output_type": "stream",
     "text": [
      "Train MSE: 1.65443\t Train Error: 0.89650\t Test Error: 0.90130 (0 epochs)\t\n",
      "Train MSE: 0.03865\t Train Error: 0.33350\t Test Error: 0.34910 (10000 epochs)\t\n",
      "Train MSE: 0.03681\t Train Error: 0.32325\t Test Error: 0.34540 (20000 epochs)\t\n",
      "Train MSE: 0.03586\t Train Error: 0.32000\t Test Error: 0.34680 (30000 epochs)\t\n",
      "Train MSE: 0.03518\t Train Error: 0.31725\t Test Error: 0.34930 (40000 epochs)\t\n",
      "Train MSE: 0.02923\t Train Error: 0.23650\t Test Error: 0.28220 (50000 epochs)\t\n",
      "Train MSE: 0.02648\t Train Error: 0.22600\t Test Error: 0.27850 (60000 epochs)\t\n",
      "Train MSE: 0.02572\t Train Error: 0.22125\t Test Error: 0.28150 (70000 epochs)\t\n",
      "Train MSE: 0.02515\t Train Error: 0.21925\t Test Error: 0.28370 (80000 epochs)\t\n",
      "Train MSE: 0.02474\t Train Error: 0.21750\t Test Error: 0.28800 (90000 epochs)\t\n",
      "Number of Parameters:  31800\n"
     ]
    },
    {
     "data": {
      "application/vnd.jupyter.widget-view+json": {
       "model_id": "",
       "version_major": 2,
       "version_minor": 0
      },
      "text/plain": [
       "  0%|          | 0/100000 [00:00<?, ?it/s]"
      ]
     },
     "metadata": {},
     "output_type": "display_data"
    },
    {
     "name": "stdout",
     "output_type": "stream",
     "text": [
      "Train MSE: 1.59527\t Train Error: 0.88200\t Test Error: 0.90040 (0 epochs)\t\n",
      "Train MSE: 0.02085\t Train Error: 0.08275\t Test Error: 0.11860 (10000 epochs)\t\n",
      "Train MSE: 0.01559\t Train Error: 0.05550\t Test Error: 0.10420 (20000 epochs)\t\n",
      "Train MSE: 0.01400\t Train Error: 0.04775\t Test Error: 0.10600 (30000 epochs)\t\n",
      "Train MSE: 0.01293\t Train Error: 0.04225\t Test Error: 0.10920 (40000 epochs)\t\n",
      "Train MSE: 0.01208\t Train Error: 0.03725\t Test Error: 0.11360 (50000 epochs)\t\n",
      "Train MSE: 0.01140\t Train Error: 0.03375\t Test Error: 0.11960 (60000 epochs)\t\n",
      "Train MSE: 0.01088\t Train Error: 0.03050\t Test Error: 0.12540 (70000 epochs)\t\n",
      "Train MSE: 0.01047\t Train Error: 0.02800\t Test Error: 0.13020 (80000 epochs)\t\n",
      "Train MSE: 0.00994\t Train Error: 0.02775\t Test Error: 0.13220 (90000 epochs)\t\n",
      "Number of Parameters:  35775\n"
     ]
    },
    {
     "data": {
      "application/vnd.jupyter.widget-view+json": {
       "model_id": "",
       "version_major": 2,
       "version_minor": 0
      },
      "text/plain": [
       "  0%|          | 0/100000 [00:00<?, ?it/s]"
      ]
     },
     "metadata": {},
     "output_type": "display_data"
    },
    {
     "name": "stdout",
     "output_type": "stream",
     "text": [
      "Train MSE: 2.75539\t Train Error: 0.90325\t Test Error: 0.89830 (0 epochs)\t\n",
      "Train MSE: 0.02547\t Train Error: 0.16550\t Test Error: 0.19980 (10000 epochs)\t\n",
      "Train MSE: 0.01417\t Train Error: 0.05750\t Test Error: 0.11120 (20000 epochs)\t\n",
      "Train MSE: 0.01214\t Train Error: 0.04675\t Test Error: 0.10960 (30000 epochs)\t\n",
      "Train MSE: 0.01086\t Train Error: 0.04225\t Test Error: 0.10990 (40000 epochs)\t\n",
      "Train MSE: 0.01003\t Train Error: 0.03800\t Test Error: 0.11260 (50000 epochs)\t\n",
      "Train MSE: 0.00951\t Train Error: 0.03475\t Test Error: 0.11790 (60000 epochs)\t\n",
      "Train MSE: 0.00884\t Train Error: 0.03275\t Test Error: 0.11910 (70000 epochs)\t\n",
      "Train MSE: 0.00848\t Train Error: 0.03125\t Test Error: 0.12250 (80000 epochs)\t\n",
      "Train MSE: 0.00806\t Train Error: 0.03075\t Test Error: 0.12410 (90000 epochs)\t\n",
      "Number of Parameters:  39750\n"
     ]
    },
    {
     "data": {
      "application/vnd.jupyter.widget-view+json": {
       "model_id": "",
       "version_major": 2,
       "version_minor": 0
      },
      "text/plain": [
       "  0%|          | 0/100000 [00:00<?, ?it/s]"
      ]
     },
     "metadata": {},
     "output_type": "display_data"
    },
    {
     "name": "stdout",
     "output_type": "stream",
     "text": [
      "Train MSE: 1.75588\t Train Error: 0.90375\t Test Error: 0.90200 (0 epochs)\t\n",
      "Train MSE: 0.01638\t Train Error: 0.06900\t Test Error: 0.11060 (10000 epochs)\t\n",
      "Train MSE: 0.01336\t Train Error: 0.05275\t Test Error: 0.10710 (20000 epochs)\t\n",
      "Train MSE: 0.01181\t Train Error: 0.04250\t Test Error: 0.10920 (30000 epochs)\t\n",
      "Train MSE: 0.01077\t Train Error: 0.03600\t Test Error: 0.11180 (40000 epochs)\t\n",
      "Train MSE: 0.01000\t Train Error: 0.03225\t Test Error: 0.11480 (50000 epochs)\t\n",
      "Train MSE: 0.00938\t Train Error: 0.03025\t Test Error: 0.11670 (60000 epochs)\t\n",
      "Train MSE: 0.00891\t Train Error: 0.02800\t Test Error: 0.12100 (70000 epochs)\t\n",
      "Train MSE: 0.00855\t Train Error: 0.02575\t Test Error: 0.12320 (80000 epochs)\t\n",
      "Train MSE: 0.00818\t Train Error: 0.02550\t Test Error: 0.12490 (90000 epochs)\t\n",
      "Number of Parameters:  43725\n"
     ]
    },
    {
     "data": {
      "application/vnd.jupyter.widget-view+json": {
       "model_id": "",
       "version_major": 2,
       "version_minor": 0
      },
      "text/plain": [
       "  0%|          | 0/100000 [00:00<?, ?it/s]"
      ]
     },
     "metadata": {},
     "output_type": "display_data"
    },
    {
     "name": "stdout",
     "output_type": "stream",
     "text": [
      "Train MSE: 1.71066\t Train Error: 0.89775\t Test Error: 0.89790 (0 epochs)\t\n",
      "Train MSE: 0.01713\t Train Error: 0.07850\t Test Error: 0.11970 (10000 epochs)\t\n",
      "Train MSE: 0.01404\t Train Error: 0.05850\t Test Error: 0.11570 (20000 epochs)\t\n",
      "Train MSE: 0.01253\t Train Error: 0.04925\t Test Error: 0.11270 (30000 epochs)\t\n",
      "Train MSE: 0.01150\t Train Error: 0.04300\t Test Error: 0.11550 (40000 epochs)\t\n",
      "Train MSE: 0.01071\t Train Error: 0.04025\t Test Error: 0.12020 (50000 epochs)\t\n",
      "Train MSE: 0.01007\t Train Error: 0.03875\t Test Error: 0.12360 (60000 epochs)\t\n",
      "Train MSE: 0.00954\t Train Error: 0.03400\t Test Error: 0.12990 (70000 epochs)\t\n",
      "Train MSE: 0.00914\t Train Error: 0.03275\t Test Error: 0.13290 (80000 epochs)\t\n",
      "Train MSE: 0.00881\t Train Error: 0.03175\t Test Error: 0.13610 (90000 epochs)\t\n",
      "Number of Parameters:  47700\n"
     ]
    },
    {
     "data": {
      "application/vnd.jupyter.widget-view+json": {
       "model_id": "",
       "version_major": 2,
       "version_minor": 0
      },
      "text/plain": [
       "  0%|          | 0/100000 [00:00<?, ?it/s]"
      ]
     },
     "metadata": {},
     "output_type": "display_data"
    },
    {
     "name": "stdout",
     "output_type": "stream",
     "text": [
      "Train MSE: 2.27546\t Train Error: 0.88850\t Test Error: 0.91180 (0 epochs)\t\n",
      "Train MSE: 0.01640\t Train Error: 0.07025\t Test Error: 0.11340 (10000 epochs)\t\n",
      "Train MSE: 0.01356\t Train Error: 0.05250\t Test Error: 0.11120 (20000 epochs)\t\n",
      "Train MSE: 0.01198\t Train Error: 0.04225\t Test Error: 0.11520 (30000 epochs)\t\n",
      "Train MSE: 0.01082\t Train Error: 0.03675\t Test Error: 0.11690 (40000 epochs)\t\n",
      "Train MSE: 0.00995\t Train Error: 0.03050\t Test Error: 0.12040 (50000 epochs)\t\n",
      "Train MSE: 0.00919\t Train Error: 0.02625\t Test Error: 0.12550 (60000 epochs)\t\n",
      "Train MSE: 0.00858\t Train Error: 0.02450\t Test Error: 0.12830 (70000 epochs)\t\n",
      "Train MSE: 0.00811\t Train Error: 0.02375\t Test Error: 0.13210 (80000 epochs)\t\n",
      "Train MSE: 0.00773\t Train Error: 0.02300\t Test Error: 0.13660 (90000 epochs)\t\n",
      "Number of Parameters:  101760\n"
     ]
    },
    {
     "data": {
      "application/vnd.jupyter.widget-view+json": {
       "model_id": "",
       "version_major": 2,
       "version_minor": 0
      },
      "text/plain": [
       "  0%|          | 0/100000 [00:00<?, ?it/s]"
      ]
     },
     "metadata": {},
     "output_type": "display_data"
    },
    {
     "name": "stdout",
     "output_type": "stream",
     "text": [
      "Train MSE: 2.57851\t Train Error: 0.92950\t Test Error: 0.89670 (0 epochs)\t\n",
      "Train MSE: 0.01407\t Train Error: 0.05100\t Test Error: 0.10090 (10000 epochs)\t\n",
      "Train MSE: 0.01077\t Train Error: 0.03725\t Test Error: 0.09560 (20000 epochs)\t\n",
      "Train MSE: 0.00903\t Train Error: 0.03000\t Test Error: 0.09510 (30000 epochs)\t\n",
      "Train MSE: 0.00790\t Train Error: 0.02325\t Test Error: 0.09710 (40000 epochs)\t\n",
      "Train MSE: 0.00707\t Train Error: 0.02100\t Test Error: 0.09930 (50000 epochs)\t\n",
      "Train MSE: 0.00640\t Train Error: 0.01900\t Test Error: 0.10180 (60000 epochs)\t\n",
      "Train MSE: 0.00589\t Train Error: 0.01725\t Test Error: 0.10410 (70000 epochs)\t\n",
      "Train MSE: 0.00546\t Train Error: 0.01675\t Test Error: 0.10600 (80000 epochs)\t\n",
      "Train MSE: 0.00509\t Train Error: 0.01625\t Test Error: 0.10910 (90000 epochs)\t\n",
      "Number of Parameters:  203520\n"
     ]
    },
    {
     "data": {
      "application/vnd.jupyter.widget-view+json": {
       "model_id": "",
       "version_major": 2,
       "version_minor": 0
      },
      "text/plain": [
       "  0%|          | 0/100000 [00:00<?, ?it/s]"
      ]
     },
     "metadata": {},
     "output_type": "display_data"
    },
    {
     "name": "stdout",
     "output_type": "stream",
     "text": [
      "Train MSE: 1.86205\t Train Error: 0.93800\t Test Error: 0.90270 (0 epochs)\t\n",
      "Train MSE: 0.01325\t Train Error: 0.04225\t Test Error: 0.09200 (10000 epochs)\t\n",
      "Train MSE: 0.00969\t Train Error: 0.02625\t Test Error: 0.08470 (20000 epochs)\t\n",
      "Train MSE: 0.00780\t Train Error: 0.01450\t Test Error: 0.08030 (30000 epochs)\t\n",
      "Train MSE: 0.00653\t Train Error: 0.01000\t Test Error: 0.08160 (40000 epochs)\t\n",
      "Train MSE: 0.00557\t Train Error: 0.00775\t Test Error: 0.08290 (50000 epochs)\t\n",
      "Train MSE: 0.00484\t Train Error: 0.00625\t Test Error: 0.08210 (60000 epochs)\t\n",
      "Train MSE: 0.00426\t Train Error: 0.00475\t Test Error: 0.08230 (70000 epochs)\t\n",
      "Train MSE: 0.00380\t Train Error: 0.00425\t Test Error: 0.08560 (80000 epochs)\t\n",
      "Train MSE: 0.00342\t Train Error: 0.00425\t Test Error: 0.08580 (90000 epochs)\t\n",
      "Number of Parameters:  407040\n"
     ]
    },
    {
     "data": {
      "application/vnd.jupyter.widget-view+json": {
       "model_id": "",
       "version_major": 2,
       "version_minor": 0
      },
      "text/plain": [
       "  0%|          | 0/100000 [00:00<?, ?it/s]"
      ]
     },
     "metadata": {},
     "output_type": "display_data"
    },
    {
     "name": "stdout",
     "output_type": "stream",
     "text": [
      "Train MSE: 2.33443\t Train Error: 0.90525\t Test Error: 0.90280 (0 epochs)\t\n",
      "Train MSE: 0.01367\t Train Error: 0.03575\t Test Error: 0.08690 (10000 epochs)\t\n",
      "Train MSE: 0.00950\t Train Error: 0.01650\t Test Error: 0.07960 (20000 epochs)\t\n",
      "Train MSE: 0.00740\t Train Error: 0.00925\t Test Error: 0.07460 (30000 epochs)\t\n",
      "Train MSE: 0.00603\t Train Error: 0.00600\t Test Error: 0.07270 (40000 epochs)\t\n",
      "Train MSE: 0.00506\t Train Error: 0.00475\t Test Error: 0.07220 (50000 epochs)\t\n",
      "Train MSE: 0.00431\t Train Error: 0.00325\t Test Error: 0.07220 (60000 epochs)\t\n",
      "Train MSE: 0.00373\t Train Error: 0.00250\t Test Error: 0.07140 (70000 epochs)\t\n",
      "Train MSE: 0.00327\t Train Error: 0.00200\t Test Error: 0.07190 (80000 epochs)\t\n",
      "Train MSE: 0.00289\t Train Error: 0.00200\t Test Error: 0.07290 (90000 epochs)\t\n"
     ]
    }
   ],
   "source": [
    "import torch.optim as optim\n",
    "from auto_tqdm import tqdm\n",
    "import numpy as np\n",
    "from copy import deepcopy\n",
    "\n",
    "SEED = 2134\n",
    "np.random.seed(SEED)\n",
    "torch.manual_seed(SEED)\n",
    "torch.cuda.manual_seed(SEED)\n",
    "\n",
    "def get_accuracy(preds, labels):\n",
    "    pred_max = torch.argmax(preds, dim=-1)\n",
    "    label_max = torch.argmax(labels, dim=-1)\n",
    "    return torch.sum(pred_max == label_max) / len(label_max)\n",
    "    \n",
    "train_set = train_set.double().cuda()\n",
    "test_set = test_set.double().cuda()\n",
    "train_labels = train_labels.double().cuda()\n",
    "test_labels = test_labels.double().cuda()\n",
    "\n",
    "widths = [16, 32, 40, 45, 50, 55, 60, 128, 256, 512]\n",
    "networks = []\n",
    "train_losses = []\n",
    "train_accs = []\n",
    "test_losses = []\n",
    "test_accs = []\n",
    "num_params = []\n",
    "\n",
    "for width in widths:\n",
    "\n",
    "    net = Net(width)\n",
    "    num_parameters = 0\n",
    "\n",
    "    # Initialize the parameters i.i.d. from a standard normal \n",
    "    for idx, param in enumerate(net.parameters()):\n",
    "        init = torch.Tensor(param.size()).normal_()\n",
    "        param.data = init\n",
    "        num_parameters += param.view(-1).size()[0]\n",
    "    num_params.append(num_parameters)\n",
    "    net.double()\n",
    "    net.cuda()\n",
    "\n",
    "    print(\"Number of Parameters: \", num_parameters)\n",
    "    # Training neural network with GD\n",
    "    optimizer = optim.SGD(filter(lambda p: p.requires_grad, net.parameters()), lr=10)\n",
    "\n",
    "    epochs = 100000  \n",
    "    for i in tqdm(range(epochs), total=epochs):\n",
    "        net.zero_grad()\n",
    "        preds = net(train_set)\n",
    "        loss = torch.mean(torch.pow(train_labels - preds, 2))\n",
    "        loss.backward()\n",
    "        optimizer.step()\n",
    "        loss = loss.cpu().data.numpy()   \n",
    "        if i % 10000 == 0:\n",
    "            test_preds = net(test_set)\n",
    "            test_loss = torch.mean(torch.pow(test_labels - test_preds, 2))\n",
    "            train_acc = get_accuracy(preds, train_labels).cpu().data.numpy().item()\n",
    "            test_acc = get_accuracy(test_preds, test_labels).cpu().data.numpy().item() \n",
    "            print(\"Train MSE: %.5f\\t Train Error: %.5f\\t Test Error: %.5f (%d epochs)\\t\"%(loss, 1 - train_acc, 1 - test_acc, i))\n",
    "    networks.append(deepcopy(net))\n",
    "    train_losses.append(loss)\n",
    "    test_losses.append(test_loss)\n",
    "    train_accs.append(train_acc)\n",
    "    test_accs.append(test_acc)"
   ]
  },
  {
   "cell_type": "markdown",
   "metadata": {},
   "source": [
    "## Using the Infinite Width Limit of Neural Networks\n",
    "\n",
    "We now demonstrate the benefits of turning to the infinite width limit of a 1 hidden layer network given by the neural tangent kernel (NTK).  We will go over the construction of the NTK for a 1 hidden layer network in a separate notebook.  We emphasize the following takeaways of this notebook: \n",
    "\n",
    "1.  While training neural networks above is time consuming and requires a GPU, solving kernel regression below takes roughly 2 seconds on a CPU.  We also note that the code for solving kernel regression is far more concise and simpler than that for training neural networks of varying width. \n",
    "\n",
    "2.  For this case of fully connected networks, solving kernel regression with the NTK gives a model that far outperforms the corresponding finite width neural network.  We note this is not always the case for general network architectures (see https://arxiv.org/abs/2007.15801), but given the simplicity of solving kernel regression, the NTK gives a strong, simple baseline. \n",
    "\n",
    "3.  Interpolation is not at odds with generalization.  Solving kernel regression exactly with the NTK gives us a training MSE of around $10^{-7}$, but gives us remarkably high test accuracy (around 96%).  \n",
    "\n"
   ]
  },
  {
   "cell_type": "code",
   "execution_count": 37,
   "metadata": {},
   "outputs": [
    {
     "name": "stdout",
     "output_type": "stream",
     "text": [
      "Train MSE: 0.00000\t Train Error: 0.00000\t Test Error: 0.04390 \t\n",
      "Time taken:  2.1329290866851807\n"
     ]
    }
   ],
   "source": [
    "from numpy.linalg import pinv, solve\n",
    "import time \n",
    "\n",
    "def mse(preds, labels): \n",
    "    return np.mean(np.abs(np.power(preds - labels, 2)))\n",
    "\n",
    "def numpy_acc(preds, labels):\n",
    "    preds_max = np.argmax(preds, axis=0)\n",
    "    labels_max = np.argmax(labels, axis=0)\n",
    "    return np.mean(preds_max == labels_max)\n",
    "\n",
    "# Infinite Width Random ReLU Feature Regression\n",
    "def ntk(pair1, pair2):\n",
    "\n",
    "    out = pair1 @ pair2.transpose(1, 0) + 1\n",
    "    N1 = np.sum(np.power(pair1, 2), axis=-1).reshape(-1, 1) + 1\n",
    "    N2 = np.sum(np.power(pair2, 2), axis=-1).reshape(-1, 1) + 1\n",
    "\n",
    "    XX = np.sqrt(N1 @ N2.transpose(1, 0))\n",
    "    out = out / XX\n",
    "\n",
    "    out = np.clip(out, a_min=-1, a_max=1)\n",
    "\n",
    "    first = 1/np.pi * (out * (np.pi - np.arccos(out)) \\\n",
    "                           + np.sqrt(1. - np.power(out, 2))) * XX\n",
    "    sec = 1/np.pi * out * (np.pi - np.arccos(out))\n",
    "    out = first + sec\n",
    "    return out \n",
    "\n",
    "X = train_set.cpu().data.numpy().astype(\"float32\")\n",
    "y = train_labels.cpu().data.numpy().astype(\"float32\")\n",
    "X_test = test_set.cpu().data.numpy().astype(\"float32\")\n",
    "y_test = test_labels.cpu().data.numpy().astype(\"float32\")\n",
    "\n",
    "start = time.time()\n",
    "# Build kernel matrix for train & test data\n",
    "K_train = ntk(X, X) # + np.eye(len(K_train)) * .05\n",
    "K_test = ntk(X, X_test)\n",
    "\n",
    "# Solve kernel regression\n",
    "a_hat = solve(K_train, y).T\n",
    "end = time.time()\n",
    "\n",
    "# Get error on train & test data\n",
    "train_error = mse(a_hat @ K_train, y.T)\n",
    "test_error =mse(a_hat @ K_test, y_test.T)\n",
    "inf_train_acc = numpy_acc(a_hat @ K_train, y.T)\n",
    "inf_test_acc = numpy_acc(a_hat @ K_test, y_test.T)\n",
    "\n",
    "print(\"Train MSE: %.5f\\t Train Error: %.5f\\t Test Error: %.5f \\t\"%(train_error, 1 - inf_train_acc, 1 - inf_test_acc))\n",
    "print(\"Time taken: \", end-start)"
   ]
  },
  {
   "cell_type": "code",
   "execution_count": 46,
   "metadata": {},
   "outputs": [
    {
     "data": {
      "text/plain": [
       "<matplotlib.legend.Legend at 0x7f65ad8f5310>"
      ]
     },
     "execution_count": 46,
     "metadata": {},
     "output_type": "execute_result"
    },
    {
     "data": {
      "image/png": "[encoded data removed]",
      "text/plain": [
       "<Figure size 432x288 with 1 Axes>"
      ]
     },
     "metadata": {
      "needs_background": "light"
     },
     "output_type": "display_data"
    }
   ],
   "source": [
    "import matplotlib.pyplot as plt\n",
    "%matplotlib inline\n",
    "\n",
    "plt.plot(num_params, [1 - acc for acc in test_accs], 'bo-')\n",
    "plt.plot(num_params, [1-inf_test_acc]*len(widths), 'k--', label='Infinite Width')\n",
    "plt.axvline(x=40000, color='r', linestyle='--')\n",
    "plt.xscale(\"log\")\n",
    "plt.xlabel(\"Number of Parameters (Log)\")\n",
    "plt.ylabel(\"Test Error (1 - Acc.)\")\n",
    "plt.title(\"Double Descent with ReLU Network on MNIST\")\n",
    "plt.legend()"
   ]
  }
 ],
 "metadata": {
  "kernelspec": {
   "display_name": "dl_tutorial",
   "language": "python",
   "name": "dl_tutorial"
  },
  "language_info": {
   "codemirror_mode": {
    "name": "ipython",
    "version": 3
   },
   "file_extension": ".py",
   "mimetype": "text/x-python",
   "name": "python",
   "nbconvert_exporter": "python",
   "pygments_lexer": "ipython3",
   "version": "3.7.10"
  }
 },
 "nbformat": 4,
 "nbformat_minor": 5
}
