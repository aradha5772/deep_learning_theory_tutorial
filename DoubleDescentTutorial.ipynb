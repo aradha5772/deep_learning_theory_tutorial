{
 "cells": [
  {
   "cell_type": "markdown",
   "metadata": {},
   "source": [
    "# Double Descent with Random Fourier Features\n",
    "\n",
    "In this section, we will demonstrate the double descent phenomenon when performing regression with Random Fourier Features (RFF).  Given a dataset $\\{(x^{(i)}, y^{(i)})\\}_{i=1}^{n} \\subset \\mathbb{R}^{d} \\times \\mathbb{R}$, we wish to learn a map from $x^{(i)} \\to y^{(i)}$.  In order to learn this map, we will first transform the features $x^{(i)}$ via the following \\textbf{feature map}: \n",
    "\n",
    "\\begin{align*}\n",
    "    \\phi_k(x) = \\frac{1}{\\sqrt{k}} \\begin{bmatrix} e^{i \\langle v_1, x \\rangle}\\\\\n",
    "                                                 e^{i \\langle v_2, x \\rangle} \\\\\n",
    "                                                 \\vdots \\\\\n",
    "                                                 e^{i \\langle v_k, x \\rangle}\n",
    "                                                 \\end{bmatrix}~~;\n",
    "\\end{align*}\n",
    "where $v_j \\sim \\mathcal{N}(\\mathbf{0}, I_{d \\times d})$ for $j = 1, 2, \\ldots, k$.  It is important to note that $\\phi_k(x) \\in \\mathbb{C}^{k}$ and that the inner product in this space is given by: \n",
    "\\begin{align*}\n",
    "    \\langle u, v \\rangle = \\sum_{i=1}^{k} u_k \\bar{v}_k\n",
    "\\end{align*}\n",
    "where $\\bar{v}_k$ is the complex conjugate of $v_k$.  Given the map $\\phi_k: \\mathbb{R}^{d} \\to \\mathbb{C}^{k}$, we now use linear regression to map from $\\phi_k(x^{(i)}) \\to y^{(i)}$.  In particular, we use gradient descent to minimize the following loss: \n",
    "\\begin{align}\n",
    "    \\mathcal{L}(w) = \\sum_{i=1}^{n} ( y^{(i)} - w^T \\phi_k(x^{(i)}))^2 \n",
    "\\end{align}\n",
    "\n",
    "### Connection to Neural Networks\n",
    "\n",
    "From the form of the loss function above, we see that the RFF model above is equivalent to a neural network with 1 hidden layer with $k$ hidden units and an elementwise activation function, $\\psi: \\mathbb{R} \\to \\mathbb{C}$, with $\\psi(\\xi) = \\frac{1}{\\sqrt{k}} e^{i \\xi}$.\n",
    "\n",
    "\n",
    "## Double Descent with Increasing Width\n",
    "We next show that increasing $k$ (e.g. the width of the 1 hidden layer network above) empirically leads to double descent.  "
   ]
  },
  {
   "cell_type": "code",
   "execution_count": 2,
   "metadata": {},
   "outputs": [
    {
     "ename": "ModuleNotFoundError",
     "evalue": "No module named 'numpy'",
     "output_type": "error",
     "traceback": [
      "\u001b[0;31m---------------------------------------------------------------------------\u001b[0m",
      "\u001b[0;31mModuleNotFoundError\u001b[0m                       Traceback (most recent call last)",
      "\u001b[0;32m<ipython-input-2-2e2e97089d1d>\u001b[0m in \u001b[0;36m<module>\u001b[0;34m\u001b[0m\n\u001b[0;32m----> 1\u001b[0;31m \u001b[0;32mimport\u001b[0m \u001b[0mdataloader\u001b[0m \u001b[0;32mas\u001b[0m \u001b[0mdl\u001b[0m\u001b[0;34m\u001b[0m\u001b[0;34m\u001b[0m\u001b[0m\n\u001b[0m\u001b[1;32m      2\u001b[0m \u001b[0mX\u001b[0m\u001b[0;34m,\u001b[0m \u001b[0my\u001b[0m \u001b[0;34m=\u001b[0m \u001b[0mdl\u001b[0m\u001b[0;34m.\u001b[0m\u001b[0mmake_dataset\u001b[0m\u001b[0;34m(\u001b[0m\u001b[0;34m)\u001b[0m\u001b[0;34m\u001b[0m\u001b[0;34m\u001b[0m\u001b[0m\n",
      "\u001b[0;32m~/princeton_dl_tutorial/dataloader.py\u001b[0m in \u001b[0;36m<module>\u001b[0;34m\u001b[0m\n\u001b[0;32m----> 1\u001b[0;31m \u001b[0;32mimport\u001b[0m \u001b[0mnumpy\u001b[0m \u001b[0;32mas\u001b[0m \u001b[0mnp\u001b[0m\u001b[0;34m\u001b[0m\u001b[0;34m\u001b[0m\u001b[0m\n\u001b[0m\u001b[1;32m      2\u001b[0m \u001b[0;34m\u001b[0m\u001b[0m\n\u001b[1;32m      3\u001b[0m \u001b[0;34m\u001b[0m\u001b[0m\n\u001b[1;32m      4\u001b[0m \u001b[0;32mdef\u001b[0m \u001b[0mmake_dataset\u001b[0m\u001b[0;34m(\u001b[0m\u001b[0mn\u001b[0m\u001b[0;34m=\u001b[0m\u001b[0;36m100\u001b[0m\u001b[0;34m,\u001b[0m \u001b[0md\u001b[0m\u001b[0;34m=\u001b[0m\u001b[0;36m10\u001b[0m\u001b[0;34m)\u001b[0m\u001b[0;34m:\u001b[0m\u001b[0;34m\u001b[0m\u001b[0;34m\u001b[0m\u001b[0m\n\u001b[1;32m      5\u001b[0m     \u001b[0mX\u001b[0m \u001b[0;34m=\u001b[0m \u001b[0mnp\u001b[0m\u001b[0;34m.\u001b[0m\u001b[0mrandom\u001b[0m\u001b[0;34m.\u001b[0m\u001b[0mnormal\u001b[0m\u001b[0;34m(\u001b[0m\u001b[0mn\u001b[0m\u001b[0;34m,\u001b[0m \u001b[0md\u001b[0m\u001b[0;34m)\u001b[0m\u001b[0;34m\u001b[0m\u001b[0;34m\u001b[0m\u001b[0m\n",
      "\u001b[0;31mModuleNotFoundError\u001b[0m: No module named 'numpy'"
     ]
    }
   ],
   "source": [
    "import dataloader as dl\n",
    "X, y = dl.make_dataset()"
   ]
  },
  {
   "cell_type": "code",
   "execution_count": null,
   "metadata": {
    "collapsed": true
   },
   "outputs": [],
   "source": []
  }
 ],
 "metadata": {
  "kernelspec": {
   "display_name": "dl_tutorial",
   "language": "python",
   "name": "dl_tutorial"
  },
  "language_info": {
   "codemirror_mode": {
    "name": "ipython",
    "version": 3
   },
   "file_extension": ".py",
   "mimetype": "text/x-python",
   "name": "python",
   "nbconvert_exporter": "python",
   "pygments_lexer": "ipython3",
   "version": "3.7.10"
  }
 },
 "nbformat": 4,
 "nbformat_minor": 2
}
